{
  "nbformat": 4,
  "nbformat_minor": 0,
  "metadata": {
    "colab": {
      "name": "Untitled0.ipynb",
      "provenance": [],
      "authorship_tag": "ABX9TyPfp1j1jYvd38el8cNf/gnE",
      "include_colab_link": true
    },
    "kernelspec": {
      "name": "python3",
      "display_name": "Python 3"
    }
  },
  "cells": [
    {
      "cell_type": "markdown",
      "metadata": {
        "id": "view-in-github",
        "colab_type": "text"
      },
      "source": [
        "<a href=\"https://colab.research.google.com/github/sammieyuen/DataQuest/blob/testbranch/ReadHTML.ipynb\" target=\"_parent\"><img src=\"https://colab.research.google.com/assets/colab-badge.svg\" alt=\"Open In Colab\"/></a>"
      ]
    },
    {
      "cell_type": "code",
      "metadata": {
        "id": "2pDSWOIWegHb",
        "colab_type": "code",
        "colab": {}
      },
      "source": [
        "import pandas as pd\n",
        "import numpy as np\n",
        "import matplotlib.pyplot as plt\n",
        "from unicodedata import normalize\n",
        "\n",
        "table_MN = pd.read_html('https://en.wikipedia.org/wiki/Minnesota')"
      ],
      "execution_count": 2,
      "outputs": []
    },
    {
      "cell_type": "code",
      "metadata": {
        "id": "-HDfe04SemEZ",
        "colab_type": "code",
        "colab": {
          "base_uri": "https://localhost:8080/",
          "height": 36
        },
        "outputId": "ebe3dbaf-d356-4394-bc98-fa08b37bd78f"
      },
      "source": [
        "print(type(table_MN))"
      ],
      "execution_count": 4,
      "outputs": [
        {
          "output_type": "stream",
          "text": [
            "<class 'list'>\n"
          ],
          "name": "stdout"
        }
      ]
    },
    {
      "cell_type": "code",
      "metadata": {
        "id": "yC6NsfvfiLcZ",
        "colab_type": "code",
        "colab": {
          "base_uri": "https://localhost:8080/",
          "height": 36
        },
        "outputId": "4da43bf3-b720-40b0-eb9c-3c31fc10cb2f"
      },
      "source": [
        "table_MN = pd.read_html('https://en.wikipedia.org/wiki/Minnesota', match='Election results from statewide races')\n",
        "len(table_MN)"
      ],
      "execution_count": 6,
      "outputs": [
        {
          "output_type": "execute_result",
          "data": {
            "text/plain": [
              "1"
            ]
          },
          "metadata": {
            "tags": []
          },
          "execution_count": 6
        }
      ]
    },
    {
      "cell_type": "code",
      "metadata": {
        "id": "tRRcviNWiNmn",
        "colab_type": "code",
        "colab": {
          "base_uri": "https://localhost:8080/",
          "height": 129
        },
        "outputId": "ea521092-82ca-4983-ade7-d3e270ef2a06"
      },
      "source": [
        "print(table_MN[0].head())"
      ],
      "execution_count": 8,
      "outputs": [
        {
          "output_type": "stream",
          "text": [
            "   Year     Office    GOP    DFL Others\n",
            "0  2018   Governor  42.4%  53.9%   3.7%\n",
            "1  2018    Senator  36.2%  60.3%   3.4%\n",
            "2  2018    Senator  42.4%  53.0%   4.6%\n",
            "3  2016  President  44.9%  46.4%   8.6%\n",
            "4  2014   Governor  44.5%  50.1%   5.4%\n"
          ],
          "name": "stdout"
        }
      ]
    }
  ]
}
{
  "nbformat": 4,
  "nbformat_minor": 0,
  "metadata": {
    "colab": {
      "name": "IoTSensorData.ipynb",
      "provenance": [],
      "collapsed_sections": [],
      "authorship_tag": "ABX9TyNsxDctkTJglu3bZKwA61AR",
      "include_colab_link": true
    },
    "kernelspec": {
      "name": "python3",
      "display_name": "Python 3"
    },
    "language_info": {
      "name": "python"
    }
  },
  "cells": [
    {
      "cell_type": "markdown",
      "metadata": {
        "id": "view-in-github",
        "colab_type": "text"
      },
      "source": [
        "<a href=\"https://colab.research.google.com/github/sammieyuen/DataQuest/blob/testbranch/IoTSensorData.ipynb\" target=\"_parent\"><img src=\"https://colab.research.google.com/assets/colab-badge.svg\" alt=\"Open In Colab\"/></a>"
      ]
    },
    {
      "cell_type": "code",
      "execution_count": 9,
      "metadata": {
        "id": "HAwneXnRFgok"
      },
      "outputs": [],
      "source": [
        "# List all non-standard packages to be imported by your \n",
        "# script here (only missing packages will be installed)\n",
        "from ayx import Package\n",
        "import pymongo\n",
        "import pandas as pd\n",
        "from pymongo import MongoClient\n",
        "from ayx import Alteryx\n",
        "from datetime import datetime\n",
        "from datetime import timedelta\n"
      ]
    },
    {
      "cell_type": "code",
      "source": [
        "key = \"_key_\"\n",
        "token = \"_token_\"\n",
        "repo_name = \"_repo_\"\n",
        "period_start_date = \"_period_start_date_\"\n",
        "period_end_date = \"_period_end_date_\""
      ],
      "metadata": {
        "id": "yJ3cSoapGQPR"
      },
      "execution_count": 10,
      "outputs": []
    },
    {
      "cell_type": "code",
      "source": [
        "#Package.installPackages(['pandas','numpy'])\n",
        "\n",
        "\n",
        "# parameter passed by control parameter instead of #1 flow\n",
        "#df = Alteryx.read(\"#1\")\n",
        "\n",
        "\n",
        "db_name = \"xxxx\"\n",
        "host = \"xxxx.mongo.cosmos.azure.com\"\n",
        "port = 12345\n",
        "username = \"xxxx\"\n",
        "password = \"xxxx\"\n",
        "args = \"ssl=true&replicaSet=globaldb\"\n",
        "\n",
        "connection_uri = f\"mongodb://{username}:{password}@{host}:{port}/{db_name}?{args}\"\n",
        "client = MongoClient(connection_uri)\n",
        "\n",
        "db = client[db_name]\n",
        "user_collection = db[repo_name]\n",
        "\n",
        "start = str(period_start_date)\n",
        "end = str(period_end_date)\n",
        "#sampledate = datetime(2021, 6, 8, 0, 0)\n",
        "start = datetime(2021, 12,1 , 00, 00,00)\n",
        "end = datetime(2021, 12, 2, 00, 00,00)\n",
        "#print(start)\n",
        "#print(end)\n",
        "\n",
        "start  = datetime.strptime(str(start),'%Y-%m-%d %H:%M:%S')\n",
        "end = datetime.strptime(str(end),'%Y-%m-%d %H:%M:%S')\n",
        "\n",
        "#start  = datetime.strptime(start,'%Y-%m-%d')\n",
        "#end = datetime.strptime(end,'%Y-%m-%d')\n",
        "\n",
        "#print(type(start))\n",
        "#print(type(end))\n",
        "\n",
        "cursor = user_collection.find({\"day\":{\"$gte\":start,\"$lte\":end}})\n",
        "\n",
        "\n",
        "#query={}\n",
        "#cursor = user_collection.find(query)\n",
        "\n",
        "df =  pd.DataFrame(list(cursor))\n",
        "\n",
        "#print(df.size)\n",
        "\n",
        "#Alteryx.write(df,1)\n",
        "\n",
        "#Alteryx.write(pandas_df=df,columns=new_metadata,outgoing_connection_number=1)\n",
        "\n"
      ],
      "metadata": {
        "id": "FwZgHP5LGY0i"
      },
      "execution_count": 26,
      "outputs": []
    },
    {
      "cell_type": "code",
      "source": [
        ""
      ],
      "metadata": {
        "id": "Bcp8rQhwJyuf"
      },
      "execution_count": null,
      "outputs": []
    }
  ]
}
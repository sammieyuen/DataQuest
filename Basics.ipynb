{
 "cells": [
  {
   "cell_type": "code",
   "execution_count": 22,
   "metadata": {
    "collapsed": false
   },
   "outputs": [],
   "source": [
    "import pandas as pd\n",
    "import matplotlib.pyplot as plt\n",
    "import numpy as np\n",
    "from sklearn.feature_selection import RFECV\n",
    "from sklearn.ensemble import RandomForestClassifier\n",
    "from sklearn.model_selection import GridSearchCV\n",
    "from sklearn.neighbors import KNeighborsClassifier\n",
    "from sklearn.linear_model import LogisticRegression\n"
   ]
  },
  {
   "cell_type": "code",
   "execution_count": 23,
   "metadata": {
    "collapsed": false
   },
   "outputs": [],
   "source": [
    "train = pd.read_csv(\"train.csv\")\n",
    "holdout = pd.read_csv(\"test.csv\")"
   ]
  },
  {
   "cell_type": "code",
   "execution_count": 24,
   "metadata": {
    "collapsed": false
   },
   "outputs": [
    {
     "data": {
      "text/html": [
       "<div>\n",
       "<style scoped>\n",
       "    .dataframe tbody tr th:only-of-type {\n",
       "        vertical-align: middle;\n",
       "    }\n",
       "\n",
       "    .dataframe tbody tr th {\n",
       "        vertical-align: top;\n",
       "    }\n",
       "\n",
       "    .dataframe thead th {\n",
       "        text-align: right;\n",
       "    }\n",
       "</style>\n",
       "<table border=\"1\" class=\"dataframe\">\n",
       "  <thead>\n",
       "    <tr style=\"text-align: right;\">\n",
       "      <th></th>\n",
       "      <th>PassengerId</th>\n",
       "      <th>Pclass</th>\n",
       "      <th>Name</th>\n",
       "      <th>Sex</th>\n",
       "      <th>Age</th>\n",
       "      <th>SibSp</th>\n",
       "      <th>Parch</th>\n",
       "      <th>Ticket</th>\n",
       "      <th>Fare</th>\n",
       "      <th>Cabin</th>\n",
       "      <th>Embarked</th>\n",
       "    </tr>\n",
       "  </thead>\n",
       "  <tbody>\n",
       "    <tr>\n",
       "      <th>0</th>\n",
       "      <td>892</td>\n",
       "      <td>3</td>\n",
       "      <td>Kelly, Mr. James</td>\n",
       "      <td>male</td>\n",
       "      <td>34.5</td>\n",
       "      <td>0</td>\n",
       "      <td>0</td>\n",
       "      <td>330911</td>\n",
       "      <td>7.8292</td>\n",
       "      <td>NaN</td>\n",
       "      <td>Q</td>\n",
       "    </tr>\n",
       "    <tr>\n",
       "      <th>1</th>\n",
       "      <td>893</td>\n",
       "      <td>3</td>\n",
       "      <td>Wilkes, Mrs. James (Ellen Needs)</td>\n",
       "      <td>female</td>\n",
       "      <td>47.0</td>\n",
       "      <td>1</td>\n",
       "      <td>0</td>\n",
       "      <td>363272</td>\n",
       "      <td>7.0000</td>\n",
       "      <td>NaN</td>\n",
       "      <td>S</td>\n",
       "    </tr>\n",
       "    <tr>\n",
       "      <th>2</th>\n",
       "      <td>894</td>\n",
       "      <td>2</td>\n",
       "      <td>Myles, Mr. Thomas Francis</td>\n",
       "      <td>male</td>\n",
       "      <td>62.0</td>\n",
       "      <td>0</td>\n",
       "      <td>0</td>\n",
       "      <td>240276</td>\n",
       "      <td>9.6875</td>\n",
       "      <td>NaN</td>\n",
       "      <td>Q</td>\n",
       "    </tr>\n",
       "    <tr>\n",
       "      <th>3</th>\n",
       "      <td>895</td>\n",
       "      <td>3</td>\n",
       "      <td>Wirz, Mr. Albert</td>\n",
       "      <td>male</td>\n",
       "      <td>27.0</td>\n",
       "      <td>0</td>\n",
       "      <td>0</td>\n",
       "      <td>315154</td>\n",
       "      <td>8.6625</td>\n",
       "      <td>NaN</td>\n",
       "      <td>S</td>\n",
       "    </tr>\n",
       "    <tr>\n",
       "      <th>4</th>\n",
       "      <td>896</td>\n",
       "      <td>3</td>\n",
       "      <td>Hirvonen, Mrs. Alexander (Helga E Lindqvist)</td>\n",
       "      <td>female</td>\n",
       "      <td>22.0</td>\n",
       "      <td>1</td>\n",
       "      <td>1</td>\n",
       "      <td>3101298</td>\n",
       "      <td>12.2875</td>\n",
       "      <td>NaN</td>\n",
       "      <td>S</td>\n",
       "    </tr>\n",
       "  </tbody>\n",
       "</table>\n",
       "</div>"
      ],
      "text/plain": [
       "   PassengerId  Pclass                                          Name     Sex  \\\n",
       "0          892       3                              Kelly, Mr. James    male   \n",
       "1          893       3              Wilkes, Mrs. James (Ellen Needs)  female   \n",
       "2          894       2                     Myles, Mr. Thomas Francis    male   \n",
       "3          895       3                              Wirz, Mr. Albert    male   \n",
       "4          896       3  Hirvonen, Mrs. Alexander (Helga E Lindqvist)  female   \n",
       "\n",
       "    Age  SibSp  Parch   Ticket     Fare Cabin Embarked  \n",
       "0  34.5      0      0   330911   7.8292   NaN        Q  \n",
       "1  47.0      1      0   363272   7.0000   NaN        S  \n",
       "2  62.0      0      0   240276   9.6875   NaN        Q  \n",
       "3  27.0      0      0   315154   8.6625   NaN        S  \n",
       "4  22.0      1      1  3101298  12.2875   NaN        S  "
      ]
     },
     "execution_count": 24,
     "metadata": {},
     "output_type": "execute_result"
    }
   ],
   "source": [
    "holdout.head()\n",
    "#holdout.columns"
   ]
  },
  {
   "cell_type": "code",
   "execution_count": 25,
   "metadata": {
    "collapsed": false
   },
   "outputs": [],
   "source": [
    "# %load functions.py\n",
    "def process_missing(df):\n",
    "    \"\"\"Handle various missing values from the data set\n",
    "\n",
    "    Usage\n",
    "    ------\n",
    "\n",
    "    holdout = process_missing(holdout)\n",
    "    \"\"\"\n",
    "    df[\"Fare\"] = df[\"Fare\"].fillna(train[\"Fare\"].mean())\n",
    "    df[\"Embarked\"] = df[\"Embarked\"].fillna(\"S\")\n",
    "    return df\n",
    "\n",
    "def process_age(df):\n",
    "    \"\"\"Process the Age column into pre-defined 'bins' \n",
    "\n",
    "    Usage\n",
    "    ------\n",
    "\n",
    "    train = process_age(train)\n",
    "    \"\"\"\n",
    "    df[\"Age\"] = df[\"Age\"].fillna(-0.5)\n",
    "    cut_points = [-1,0,5,12,18,35,60,100]\n",
    "    label_names = [\"Missing\",\"Infant\",\"Child\",\"Teenager\",\"Young Adult\",\"Adult\",\"Senior\"]\n",
    "    df[\"Age_categories\"] = pd.cut(df[\"Age\"],cut_points,labels=label_names)\n",
    "    return df\n",
    "\n",
    "def process_fare(df):\n",
    "    \"\"\"Process the Fare column into pre-defined 'bins' \n",
    "\n",
    "    Usage\n",
    "    ------\n",
    "\n",
    "    train = process_fare(train)\n",
    "    \"\"\"\n",
    "    cut_points = [-1,12,50,100,1000]\n",
    "    label_names = [\"0-12\",\"12-50\",\"50-100\",\"100+\"]\n",
    "    df[\"Fare_categories\"] = pd.cut(df[\"Fare\"],cut_points,labels=label_names)\n",
    "    return df\n",
    "\n",
    "def process_cabin(df):\n",
    "    \"\"\"Process the Cabin column into pre-defined 'bins' \n",
    "\n",
    "    Usage\n",
    "    ------\n",
    "\n",
    "    train process_cabin(train)\n",
    "    \"\"\"\n",
    "    df[\"Cabin_type\"] = df[\"Cabin\"].str[0]\n",
    "    df[\"Cabin_type\"] = df[\"Cabin_type\"].fillna(\"Unknown\")\n",
    "    df = df.drop('Cabin',axis=1)\n",
    "    return df\n",
    "\n",
    "def process_titles(df):\n",
    "    \"\"\"Extract and categorize the title from the name column \n",
    "\n",
    "    Usage\n",
    "    ------\n",
    "\n",
    "    train = process_titles(train)\n",
    "    \"\"\"\n",
    "    titles = {\n",
    "        \"Mr\" :         \"Mr\",\n",
    "        \"Mme\":         \"Mrs\",\n",
    "        \"Ms\":          \"Mrs\",\n",
    "        \"Mrs\" :        \"Mrs\",\n",
    "        \"Master\" :     \"Master\",\n",
    "        \"Mlle\":        \"Miss\",\n",
    "        \"Miss\" :       \"Miss\",\n",
    "        \"Capt\":        \"Officer\",\n",
    "        \"Col\":         \"Officer\",\n",
    "        \"Major\":       \"Officer\",\n",
    "        \"Dr\":          \"Officer\",\n",
    "        \"Rev\":         \"Officer\",\n",
    "        \"Jonkheer\":    \"Royalty\",\n",
    "        \"Don\":         \"Royalty\",\n",
    "        \"Sir\" :        \"Royalty\",\n",
    "        \"Countess\":    \"Royalty\",\n",
    "        \"Dona\":        \"Royalty\",\n",
    "        \"Lady\" :       \"Royalty\"\n",
    "    }\n",
    "    extracted_titles = df[\"Name\"].str.extract(' ([A-Za-z]+)\\.',expand=False)\n",
    "    df[\"Title\"] = extracted_titles.map(titles)\n",
    "    return df\n",
    "\n",
    "def create_dummies(df,column_name):\n",
    "    \"\"\"Create Dummy Columns (One Hot Encoding) from a single Column\n",
    "\n",
    "    Usage\n",
    "    ------\n",
    "\n",
    "    train = create_dummies(train,\"Age\")\n",
    "    \"\"\"\n",
    "    dummies = pd.get_dummies(df[column_name],prefix=column_name)\n",
    "    df = pd.concat([df,dummies],axis=1)\n",
    "    return df"
   ]
  },
  {
   "cell_type": "code",
   "execution_count": 26,
   "metadata": {
    "collapsed": false
   },
   "outputs": [
    {
     "name": "stdout",
     "output_type": "stream",
     "text": [
      "(891, 12)\n",
      "(418, 11)\n"
     ]
    }
   ],
   "source": [
    "for df in [train,holdout]:\n",
    "    #print(df.describe())\n",
    "    print(df.shape)"
   ]
  },
  {
   "cell_type": "code",
   "execution_count": 27,
   "metadata": {
    "collapsed": false
   },
   "outputs": [],
   "source": [
    "def preprocess(df):\n",
    "    df = process_missing(df)\n",
    "    df = process_age(df)\n",
    "    df = process_fare(df)\n",
    "    df = process_titles(df)\n",
    "    df = process_cabin(df)\n",
    "\n",
    "    for col in [\"Age_categories\",\"Fare_categories\",\"Title\",\"Cabin_type\",\"Sex\"]:\n",
    "        df = create_dummies(df,col)\n",
    "    \n",
    "    return df"
   ]
  },
  {
   "cell_type": "code",
   "execution_count": 28,
   "metadata": {
    "collapsed": false
   },
   "outputs": [
    {
     "name": "stdout",
     "output_type": "stream",
     "text": [
      "Index(['PassengerId', 'Survived', 'Pclass', 'Name', 'Sex', 'Age', 'SibSp',\n",
      "       'Parch', 'Ticket', 'Fare', 'Embarked', 'Age_categories',\n",
      "       'Fare_categories', 'Title', 'Cabin_type', 'Age_categories_Missing',\n",
      "       'Age_categories_Infant', 'Age_categories_Child',\n",
      "       'Age_categories_Teenager', 'Age_categories_Young Adult',\n",
      "       'Age_categories_Adult', 'Age_categories_Senior', 'Fare_categories_0-12',\n",
      "       'Fare_categories_12-50', 'Fare_categories_50-100',\n",
      "       'Fare_categories_100+', 'Title_Master', 'Title_Miss', 'Title_Mr',\n",
      "       'Title_Mrs', 'Title_Officer', 'Title_Royalty', 'Cabin_type_A',\n",
      "       'Cabin_type_B', 'Cabin_type_C', 'Cabin_type_D', 'Cabin_type_E',\n",
      "       'Cabin_type_F', 'Cabin_type_G', 'Cabin_type_T', 'Cabin_type_Unknown',\n",
      "       'Sex_female', 'Sex_male'],\n",
      "      dtype='object')\n",
      "(891, 43)\n",
      "Index(['PassengerId', 'Pclass', 'Name', 'Sex', 'Age', 'SibSp', 'Parch',\n",
      "       'Ticket', 'Fare', 'Embarked', 'Age_categories', 'Fare_categories',\n",
      "       'Title', 'Cabin_type', 'Age_categories_Missing',\n",
      "       'Age_categories_Infant', 'Age_categories_Child',\n",
      "       'Age_categories_Teenager', 'Age_categories_Young Adult',\n",
      "       'Age_categories_Adult', 'Age_categories_Senior', 'Fare_categories_0-12',\n",
      "       'Fare_categories_12-50', 'Fare_categories_50-100',\n",
      "       'Fare_categories_100+', 'Title_Master', 'Title_Miss', 'Title_Mr',\n",
      "       'Title_Mrs', 'Title_Officer', 'Title_Royalty', 'Cabin_type_A',\n",
      "       'Cabin_type_B', 'Cabin_type_C', 'Cabin_type_D', 'Cabin_type_E',\n",
      "       'Cabin_type_F', 'Cabin_type_G', 'Cabin_type_Unknown', 'Sex_female',\n",
      "       'Sex_male'],\n",
      "      dtype='object')\n",
      "(418, 41)\n"
     ]
    }
   ],
   "source": [
    "train = preprocess(train)\n",
    "holdout = preprocess(holdout)\n",
    "\n",
    "for df in [train,holdout]:\n",
    "    #print(df.describe())\n",
    "    print(df.columns)\n",
    "    print(df.shape)"
   ]
  },
  {
   "cell_type": "code",
   "execution_count": 29,
   "metadata": {
    "collapsed": false
   },
   "outputs": [
    {
     "name": "stdout",
     "output_type": "stream",
     "text": [
      "0    608\n",
      "1    209\n",
      "2     28\n",
      "4     18\n",
      "3     16\n",
      "8      7\n",
      "5      5\n",
      "Name: SibSp, dtype: int64\n",
      "0    678\n",
      "1    118\n",
      "2     80\n",
      "5      5\n",
      "3      5\n",
      "4      4\n",
      "6      1\n",
      "Name: Parch, dtype: int64\n"
     ]
    }
   ],
   "source": [
    "#train[[\"SibSp\",\"Parch\"]]\n",
    "print(train[\"SibSp\"].value_counts(dropna=False))\n",
    "print(train[\"Parch\"].value_counts(dropna=False))"
   ]
  },
  {
   "cell_type": "code",
   "execution_count": 30,
   "metadata": {
    "collapsed": false
   },
   "outputs": [
    {
     "name": "stdout",
     "output_type": "stream",
     "text": [
      "<class 'pandas.core.series.Series'>\n",
      "<class 'pandas.core.series.Series'>\n",
      "Index(['SibSp', 'Parch', 'Survived', 'FamilySize'], dtype='object')\n",
      "    SibSp  Parch  Survived  FamilySize\n",
      "13      1      5         0           6\n",
      "16      4      1         0           5\n",
      "25      1      5         1           6\n",
      "27      3      2         0           5\n",
      "50      4      1         0           5\n"
     ]
    }
   ],
   "source": [
    "print(type(train[\"SibSp\"]))\n",
    "print(type(train[\"Parch\"]))\n",
    "\n",
    "explore = train.copy()\n",
    "explore= explore[[\"SibSp\",\"Parch\",\"Survived\"]]\n",
    "explore[\"FamilySize\"] = explore[[\"SibSp\",\"Parch\"]].sum(axis=1)\n",
    "print(explore.columns)\n",
    "print(explore[explore[\"FamilySize\"]>=5].head())\n"
   ]
  },
  {
   "cell_type": "code",
   "execution_count": 31,
   "metadata": {
    "collapsed": false
   },
   "outputs": [
    {
     "data": {
      "text/plain": [
       "'train[\"SibSp\"].plot.hist(alpha=0.5)\\ntrain[\"Parch\"].plot.hist(alpha=0.5)'"
      ]
     },
     "execution_count": 31,
     "metadata": {},
     "output_type": "execute_result"
    },
    {
     "data": {
      "text/plain": [
       "<matplotlib.figure.Figure at 0x7f975a458f98>"
      ]
     },
     "metadata": {},
     "output_type": "display_data"
    }
   ],
   "source": [
    "%matplotlib inline\n",
    "\n",
    "plt.figure(figsize=(10,5))\n",
    "'''\n",
    "plt.subplot(121)\n",
    "train[\"SibSp\"].plot.hist()\n",
    "plt.subplot(122)\n",
    "train[\"Parch\"].plot.hist()\n",
    "'''\n",
    "'''train[\"SibSp\"].plot.hist(alpha=0.5)\n",
    "train[\"Parch\"].plot.hist(alpha=0.5)'''\n",
    "\n",
    "\n",
    "\n",
    "\n"
   ]
  },
  {
   "cell_type": "code",
   "execution_count": 32,
   "metadata": {
    "collapsed": false
   },
   "outputs": [
    {
     "name": "stdout",
     "output_type": "stream",
     "text": [
      "0    549\n",
      "1    342\n",
      "Name: Survived, dtype: int64\n"
     ]
    }
   ],
   "source": [
    "print(train[\"Survived\"].value_counts())"
   ]
  },
  {
   "cell_type": "code",
   "execution_count": 33,
   "metadata": {
    "collapsed": false
   },
   "outputs": [
    {
     "name": "stdout",
     "output_type": "stream",
     "text": [
      "   SibSp  Parch  Survived  FamilySize\n",
      "0      1      0         0           1\n",
      "1      1      0         1           1\n",
      "2      0      0         1           0\n",
      "3      1      0         1           1\n",
      "4      0      0         0           0\n"
     ]
    },
    {
     "data": {
      "image/png": "[encoded data removed]",
      "text/plain": [
       "<matplotlib.figure.Figure at 0x7f975c72def0>"
      ]
     },
     "metadata": {},
     "output_type": "display_data"
    }
   ],
   "source": [
    "#use histogram to view the distribution of SibSp and Parch\n",
    "print(explore.head())\n",
    "\n",
    "explore.drop([\"Survived\",\"FamilySize\"],axis=1).plot.hist(alpha=0.5)\n",
    "plt.xticks(range(11))\n",
    "plt.show()"
   ]
  },
  {
   "cell_type": "code",
   "execution_count": 34,
   "metadata": {
    "collapsed": false
   },
   "outputs": [
    {
     "name": "stdout",
     "output_type": "stream",
     "text": [
      "   SibSp  Parch  Survived  FamilySize\n",
      "0      1      0         0           1\n",
      "1      1      0         1           1\n",
      "2      0      0         1           0\n",
      "3      1      0         1           1\n",
      "4      0      0         0           0\n"
     ]
    },
    {
     "data": {
      "image/png": "[encoded data removed]",
      "text/plain": [
       "<matplotlib.figure.Figure at 0x7f975a440400>"
      ]
     },
     "metadata": {},
     "output_type": "display_data"
    }
   ],
   "source": [
    "#use histogram to view the distribution of SibSp, Parch and FamilySize \n",
    "\n",
    "print(explore.head())\n",
    "\n",
    "explore.drop([\"Survived\"],axis=1).plot.hist(alpha=0.5)\n",
    "plt.xticks(range(11))\n",
    "plt.show()"
   ]
  },
  {
   "cell_type": "code",
   "execution_count": 44,
   "metadata": {
    "collapsed": false
   },
   "outputs": [
    {
     "name": "stdout",
     "output_type": "stream",
     "text": [
      "Total No SibSp 608\n",
      "Who die 398\n",
      "Who Survived 210\n",
      "Mean (Die)= 0.654605 Mean (Survived)= 0.345395\n",
      "FamilySize= 806\n",
      "FamilySize 806\n"
     ]
    },
    {
     "data": {
      "text/plain": [
       "<matplotlib.figure.Figure at 0x7f975a570f28>"
      ]
     },
     "metadata": {},
     "output_type": "display_data"
    },
    {
     "data": {
      "image/png": "[encoded data removed]",
      "text/plain": [
       "<matplotlib.figure.Figure at 0x7f975a4d6978>"
      ]
     },
     "metadata": {},
     "output_type": "display_data"
    },
    {
     "data": {
      "image/png": "[encoded data removed]",
      "text/plain": [
       "<matplotlib.figure.Figure at 0x7f975a59b8d0>"
      ]
     },
     "metadata": {},
     "output_type": "display_data"
    },
    {
     "data": {
      "image/png": "[encoded data removed]",
      "text/plain": [
       "<matplotlib.figure.Figure at 0x7f975a59ce48>"
      ]
     },
     "metadata": {},
     "output_type": "display_data"
    }
   ],
   "source": [
    "#use pivot tables to look at the survival rate\n",
    "\n",
    "#train[\"Survived\"]\n",
    "#print(explore[\"Survived\"].value_counts())\n",
    "#print(explore.columns)\n",
    "\n",
    "Num_SibSp_Die =len(explore[(explore['SibSp']==0) & (explore['Survived']==0) ])\n",
    "Num_SibSp_Survived = len(explore[(explore['SibSp']==0) & (explore['Survived']==1) ])\n",
    "Num_SibSp = len(explore[(explore['SibSp']==0) ])\n",
    "print(\"Total No SibSp {}\".format(Num_SibSp))\n",
    "print(\"Who die {}\".format(Num_SibSp_Die))\n",
    "print(\"Who Survived {}\".format(Num_SibSp_Survived))\n",
    "SibSp_mean1 = Num_SibSp_Die/Num_SibSp\n",
    "SibSp_mean2 = Num_SibSp_Survived/Num_SibSp\n",
    "print(\"Mean (Die)=\",np.round(SibSp_mean1,6),\"Mean (Survived)=\",np.round(SibSp_mean2,6) )\n",
    "\n",
    "\n",
    "\n",
    "explore[\"FamilySize\"] = explore[\"SibSp\"] + explore[\"Parch\"]\n",
    "\n",
    "print(\"FamilySize=\",explore[[\"SibSp\",\"Parch\"]].sum(axis=1).sum())\n",
    "print(\"FamilySize\",explore[\"FamilySize\"].sum())\n",
    "'''pivot2 = explore.pivot_table(index=\"SibSp\",values=\"Survived\",aggfunc=np.sum)\n",
    "pivot = explore.pivot_table(index=['SibSp'],values=\"Survived\",aggfunc=np.mean)\n",
    "print(\"Pivot by Mean\",pivot)\n",
    "print(\"Pivot by Count\",pivot2)'''\n",
    "\n",
    "#pivot = explore.pivot_table(index=['SibSp'],values=\"Survived\",aggfunc=np.mean)\n",
    "#pivot = explore.pivot_table(index=['Pclass', 'Sex', 'Survived'], values='Age')\n",
    "#pivot = explore.pivot_table(index=\"SibSp\",values=\"Survived\",columns=\"FamilySize\")\n",
    "\n",
    "#print(pivot[\"Survived\"].sum())\n",
    "#pivot.plot.bar()\n",
    "\n",
    "'''plt.figure(figsize=(10,5))\n",
    "plt.subplot(131)\n",
    "pivot.plot.bar()'''\n",
    "\n",
    "plt.figure(figsize=(10,5))\n",
    "\n",
    "explore_col_list = ['SibSp','Parch','FamilySize']\n",
    "\n",
    "for col in explore_col_list:\n",
    "    #print(col)\n",
    "    pivot = explore.pivot_table(index=[col],values=\"Survived\",aggfunc=np.mean)\n",
    "    #print(pivot)\n",
    "    #plt.subplot(111)\n",
    "    pivot.plot.bar(ylim=(0,0.8),yticks=np.arange(0,0.8,0.1))\n",
    "    plt.axhspan(0.3,0.6,alpha=0.5,color='r')\n",
    "    \n"
   ]
  },
  {
   "cell_type": "code",
   "execution_count": 36,
   "metadata": {
    "collapsed": false
   },
   "outputs": [
    {
     "name": "stdout",
     "output_type": "stream",
     "text": [
      "0    537\n",
      "Name: FamilySize, dtype: int64\n",
      "1     161\n",
      "2     102\n",
      "3      29\n",
      "5      22\n",
      "4      15\n",
      "6      12\n",
      "10      7\n",
      "7       6\n",
      "Name: FamilySize, dtype: int64\n",
      "0    608\n",
      "Name: SibSp, dtype: int64\n",
      "1    209\n",
      "2     28\n",
      "4     18\n",
      "3     16\n",
      "8      7\n",
      "5      5\n",
      "Name: SibSp, dtype: int64\n",
      "0    678\n",
      "Name: Parch, dtype: int64\n",
      "1    118\n",
      "2     80\n",
      "5      5\n",
      "3      5\n",
      "4      4\n",
      "6      1\n",
      "Name: Parch, dtype: int64\n"
     ]
    }
   ],
   "source": [
    "#print(explore.describe())\n",
    "print(explore[explore[\"FamilySize\"]==0][\"FamilySize\"].value_counts())\n",
    "print(explore[explore[\"FamilySize\"]!=0][\"FamilySize\"].value_counts())\n",
    "print(explore[explore[\"SibSp\"]==0][\"SibSp\"].value_counts())\n",
    "print(explore[explore[\"SibSp\"]!=0][\"SibSp\"].value_counts())\n",
    "print(explore[explore[\"Parch\"]==0][\"Parch\"].value_counts())\n",
    "print(explore[explore[\"Parch\"]!=0][\"Parch\"].value_counts())\n"
   ]
  },
  {
   "cell_type": "markdown",
   "metadata": {},
   "source": [
    "the distributions of SibSp, Parch and FamilySize are right skewed which imply mean is larger than median.\n",
    "\n",
    "Passenger with no family member has less chance to survive. the highest chance of survived is passenger with 3 family member."
   ]
  },
  {
   "cell_type": "code",
   "execution_count": 37,
   "metadata": {
    "collapsed": false
   },
   "outputs": [
    {
     "data": {
      "text/html": [
       "<div>\n",
       "<style scoped>\n",
       "    .dataframe tbody tr th:only-of-type {\n",
       "        vertical-align: middle;\n",
       "    }\n",
       "\n",
       "    .dataframe tbody tr th {\n",
       "        vertical-align: top;\n",
       "    }\n",
       "\n",
       "    .dataframe thead th {\n",
       "        text-align: right;\n",
       "    }\n",
       "</style>\n",
       "<table border=\"1\" class=\"dataframe\">\n",
       "  <thead>\n",
       "    <tr style=\"text-align: right;\">\n",
       "      <th></th>\n",
       "      <th>Survived</th>\n",
       "    </tr>\n",
       "    <tr>\n",
       "      <th>FamilySize</th>\n",
       "      <th></th>\n",
       "    </tr>\n",
       "  </thead>\n",
       "  <tbody>\n",
       "    <tr>\n",
       "      <th>0</th>\n",
       "      <td>0.303538</td>\n",
       "    </tr>\n",
       "    <tr>\n",
       "      <th>1</th>\n",
       "      <td>0.552795</td>\n",
       "    </tr>\n",
       "    <tr>\n",
       "      <th>2</th>\n",
       "      <td>0.578431</td>\n",
       "    </tr>\n",
       "    <tr>\n",
       "      <th>3</th>\n",
       "      <td>0.724138</td>\n",
       "    </tr>\n",
       "    <tr>\n",
       "      <th>4</th>\n",
       "      <td>0.200000</td>\n",
       "    </tr>\n",
       "    <tr>\n",
       "      <th>5</th>\n",
       "      <td>0.136364</td>\n",
       "    </tr>\n",
       "    <tr>\n",
       "      <th>6</th>\n",
       "      <td>0.333333</td>\n",
       "    </tr>\n",
       "    <tr>\n",
       "      <th>7</th>\n",
       "      <td>0.000000</td>\n",
       "    </tr>\n",
       "    <tr>\n",
       "      <th>10</th>\n",
       "      <td>0.000000</td>\n",
       "    </tr>\n",
       "  </tbody>\n",
       "</table>\n",
       "</div>"
      ],
      "text/plain": [
       "            Survived\n",
       "FamilySize          \n",
       "0           0.303538\n",
       "1           0.552795\n",
       "2           0.578431\n",
       "3           0.724138\n",
       "4           0.200000\n",
       "5           0.136364\n",
       "6           0.333333\n",
       "7           0.000000\n",
       "10          0.000000"
      ]
     },
     "execution_count": 37,
     "metadata": {},
     "output_type": "execute_result"
    }
   ],
   "source": [
    "explore_cols=[\"SibSp\",\"Parch\",\"Survived\"]\n",
    "explore = train[explore_cols].copy()\n",
    "explore[\"FamilySize\"] = explore[[\"SibSp\",\"Parch\"]].sum(axis=1)\n",
    "explore.pivot_table(index=[\"FamilySize\"],values=\"Survived\")"
   ]
  },
  {
   "cell_type": "code",
   "execution_count": 38,
   "metadata": {
    "collapsed": true
   },
   "outputs": [],
   "source": [
    "def process_isalone(data):\n",
    "    #df[\"isalone\"] = (d[\"FamilySize\"]:lamda x > 0 :1)\n",
    "    '''if data[\"FamilySize\"] == 0:\n",
    "        df[\"isalone\"] = 1\n",
    "    else:\n",
    "        df[\"isalone\"] = 0\n",
    "    '''\n",
    "    \n",
    "    data[\"isalone\"] = np.int(0) \n",
    "    #data[\"isalone\"] = data[\"isalone\"].astype(int)\n",
    "    data.loc[(data[\"FamilySize\"] ==1),\"isalone\"] =int(0)\n",
    "    data.loc[(data[\"FamilySize\"] ==0),\"isalone\"] =int(1)\n",
    "    return data"
   ]
  },
  {
   "cell_type": "code",
   "execution_count": 39,
   "metadata": {
    "collapsed": false
   },
   "outputs": [
    {
     "name": "stdout",
     "output_type": "stream",
     "text": [
      "   FamilySize  isalone\n",
      "0           1        0\n",
      "1           1        0\n",
      "2           0        1\n",
      "3           1        0\n",
      "4           0        1\n",
      "   FamilySize  isalone\n",
      "0           0        1\n",
      "1           1        0\n",
      "2           0        1\n",
      "3           0        1\n",
      "4           2        0\n"
     ]
    }
   ],
   "source": [
    "\n",
    "#train = pd.read_csv(\"train.csv\")\n",
    "#holdout = pd.read_csv(\"test.csv\")\n",
    "\n",
    "train[\"FamilySize\"] = train[[\"SibSp\",\"Parch\"]].sum(axis=1)\n",
    "train = process_isalone(train)\n",
    "train.columns\n",
    "print(train[[\"FamilySize\",\"isalone\"]].head())\n",
    "\n",
    "holdout[\"FamilySize\"] = holdout[[\"SibSp\",\"Parch\"]].sum(axis=1)\n",
    "holdout = process_isalone(holdout)\n",
    "holdout.columns\n",
    "print(holdout[[\"FamilySize\",\"isalone\"]].head())\n",
    "\n",
    "\n"
   ]
  },
  {
   "cell_type": "code",
   "execution_count": 40,
   "metadata": {
    "collapsed": false
   },
   "outputs": [
    {
     "name": "stdout",
     "output_type": "stream",
     "text": [
      "<class 'pandas.core.indexes.base.Index'>\n"
     ]
    },
    {
     "name": "stderr",
     "output_type": "stream",
     "text": [
      "/dataquest/system/env/python3/lib/python3.4/site-packages/sklearn/utils/__init__.py:54: FutureWarning:\n",
      "\n",
      "Conversion of the second argument of issubdtype from `int` to `np.signedinteger` is deprecated. In future, it will be treated as `np.int64 == np.dtype(int).type`.\n",
      "\n"
     ]
    }
   ],
   "source": [
    "\n",
    "def select_features(df):\n",
    "    df = df.dropna(axis=1)\n",
    "    df = df.select_dtypes(np.number)\n",
    "    #df = df.select_dtypes(np.dtype(int).type)\n",
    "    \n",
    "    all_X = df.drop([\"PassengerId\",\"Survived\"],axis=1)\n",
    "    all_Y = df[\"Survived\"]\n",
    "\n",
    "    #train._get_numeric_data()\n",
    "    #train[\"Age\"].fillna(values=0)\n",
    "    #train.select_dtypes(np.number)\n",
    "    rs = RandomForestClassifier(random_state=1)\n",
    "    selector = RFECV(rs,cv=10)\n",
    "    selector = selector.fit(all_X,all_Y)\n",
    "    print(type(all_X.columns[selector.support_]))\n",
    "    best_col = list(all_X.columns[selector.support_])\n",
    "\n",
    "    #print(\"best columns\"+\"\\n\",best_col)\n",
    "    \n",
    "    return best_col\n",
    "    \n",
    "best_col_train = select_features(train)\n",
    "\n",
    "#['Pclass', 'Age', 'SibSp', 'Parch', 'Fare', 'Age_categories_Missing', 'Age_categories_Infant', 'Age_categories_Young Adult', 'Fare_categories_12-50', 'Title_Miss', 'Title_Mr', 'Title_Mrs', 'Cabin_type_D', 'Cabin_type_E', 'Cabin_type_Unknown', 'Sex_female', 'Sex_male', 'isalone']\n"
   ]
  },
  {
   "cell_type": "code",
   "execution_count": 41,
   "metadata": {
    "collapsed": false
   },
   "outputs": [
    {
     "name": "stderr",
     "output_type": "stream",
     "text": [
      "/dataquest/system/env/python3/lib/python3.4/site-packages/sklearn/utils/__init__.py:54: FutureWarning:\n",
      "\n",
      "Conversion of the second argument of issubdtype from `int` to `np.signedinteger` is deprecated. In future, it will be treated as `np.int64 == np.dtype(int).type`.\n",
      "\n"
     ]
    },
    {
     "name": "stdout",
     "output_type": "stream",
     "text": [
      "<class 'pandas.core.indexes.base.Index'>\n",
      "LogisticRegression\n",
      "Best score 0.8181818181818182\n",
      "Best param {'solver': 'newton-cg'}\n",
      "KNeighborsClassifier\n",
      "Best score 0.7800224466891134\n",
      "Best param {'n_neighbors': 3, 'p': 1, 'algorithm': 'kd_tree', 'weights': 'uniform'}\n",
      "RandomForestClassifier\n",
      "Best score 0.8383838383838383\n",
      "Best param {'max_depth': 10, 'n_estimators': 9, 'min_samples_leaf': 5, 'max_features': 'sqrt', 'min_samples_split': 3, 'criterion': 'gini'}\n"
     ]
    }
   ],
   "source": [
    "def select_model(df, features):\n",
    "    all_X = df[features]\n",
    "    all_Y = df[\"Survived\"]\n",
    "    lr = LogisticRegression()\n",
    "    knn = KNeighborsClassifier()\n",
    "    rf = RandomForestClassifier()\n",
    "    \n",
    "    model_dict = [\n",
    "                    {\n",
    "                        \"name\":\"LogisticRegression\",\n",
    "                        \"estimator\":lr,\n",
    "                        \"hyperparameters\":\n",
    "                             {\n",
    "                                 \"solver\":[\"newton-cg\",\"lbfgs\",\"liblinear\"]\n",
    "                             }\n",
    "                     },\n",
    "                    {\n",
    "                        \"name\":\"KNeighborsClassifier\",\n",
    "                        \"estimator\":knn,\n",
    "                        \"hyperparameters\":\n",
    "                            {\n",
    "                                \"n_neighbors\": range(1,20,2),\n",
    "                                \"weights\":[\"distance\",\"uniform\"],\n",
    "                                \"algorithm\":[\"ball_tree\",\"kd_tree\",\"brute\"],\n",
    "                                \"p\":[1,2]\n",
    "                            }\n",
    "                    },\n",
    "                    {\n",
    "                        \"name\":\"RandomForestClassifier\",\n",
    "                        \"estimator\":rf,\n",
    "                        \"hyperparameters\":\n",
    "                            {\n",
    "                                \"n_estimators\":[4,6,9],\n",
    "                                \"criterion\":[\"entropy\",\"gini\"],\n",
    "                                \"max_depth\":[2,5,10],\n",
    "                                \"max_features\":[\"log2\",\"sqrt\"],\n",
    "                                \"min_samples_leaf\":[1,5,8],\n",
    "                                \"min_samples_split\":[2,3,5]\n",
    "                            }\n",
    "                        \n",
    "                    }\n",
    "                ]\n",
    "    \n",
    "    for model in model_dict:\n",
    "        print(model[\"name\"])\n",
    "        #print(model[\"hyperparameters\"])\n",
    "        grid = GridSearchCV(estimator = model[\"estimator\"],param_grid=model[\"hyperparameters\"],cv=10)\n",
    "        grid.fit(all_X,all_Y)\n",
    "        \n",
    "        model[\"best_score\"] = grid.best_score_\n",
    "        model[\"best_para\"] = grid.best_params_\n",
    "        model[\"best_estimator\"] = grid.best_estimator_\n",
    "\n",
    "        print(\"Best score {}\".format(model[\"best_score\"]))\n",
    "        print(\"Best param {}\".format(model[\"best_para\"]))\n",
    "\n",
    "    return model_dict    \n",
    "        \n",
    "best_features = select_features(train)        \n",
    "best_model = select_model(train,best_features)    \n",
    "\n",
    "\n"
   ]
  },
  {
   "cell_type": "code",
   "execution_count": 42,
   "metadata": {
    "collapsed": false
   },
   "outputs": [
    {
     "name": "stdout",
     "output_type": "stream",
     "text": [
      "best model name = RandomForestClassifier\n",
      "best estimator = RandomForestClassifier(bootstrap=True, class_weight=None, criterion='gini',\n",
      "            max_depth=10, max_features='sqrt', max_leaf_nodes=None,\n",
      "            min_impurity_split=1e-07, min_samples_leaf=5,\n",
      "            min_samples_split=3, min_weight_fraction_leaf=0.0,\n",
      "            n_estimators=9, n_jobs=1, oob_score=False, random_state=None,\n",
      "            verbose=0, warm_start=False)\n"
     ]
    }
   ],
   "source": [
    "def save_submission_file(model,features,filename=\"submission.csv\"):    \n",
    "    predictions = model.predict(holdout[features])\n",
    "    submission_dict = {\"PassengerId\": holdout[\"PassengerId\"],\n",
    "             \"Survived\":predictions}\n",
    "    submission = pd.DataFrame(submission_dict)\n",
    "    #print(submission)\n",
    "    \n",
    "    #print(type(pd.DataFrame(submission_dict[\"PassengerId\"])))\n",
    "    #submission = pd.concat([pd.DataFrame(submission_dict[\"PassengerId\"]),pd.DataFrame(submission_dict[\"Survived\"]) ],axis=1)\n",
    "    #print(submission.columns)\n",
    "    submission.to_csv(filename,index=False)\n",
    "    \n",
    "rf = best_model[2][\"best_estimator\"]    \n",
    "print(\"best model name = {}\".format(best_model[2][\"name\"]))\n",
    "print(\"best estimator = {}\".format(rf))\n",
    "   \n",
    "save_submission_file(best_model[2][\"best_estimator\"],best_features)    \n",
    "\n",
    "#save_submission_file(best_model,best_features) \n",
    "#for key,val in best_model.items():\n",
    "#    print(key,value)\n"
   ]
  }
 ],
 "metadata": {
  "kernelspec": {
   "display_name": "Python 3",
   "language": "python",
   "name": "python3"
  },
  "language_info": {
   "codemirror_mode": {
    "name": "ipython",
    "version": 3
   },
   "file_extension": ".py",
   "mimetype": "text/x-python",
   "name": "python",
   "nbconvert_exporter": "python",
   "pygments_lexer": "ipython3",
   "version": "3.4.3"
  }
 },
 "nbformat": 4,
 "nbformat_minor": 2
}

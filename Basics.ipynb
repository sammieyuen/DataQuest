{
 "cells": [
  {
   "cell_type": "code",
   "execution_count": 31,
   "metadata": {
    "collapsed": false
   },
   "outputs": [
    {
     "name": "stderr",
     "output_type": "stream",
     "text": [
      "2020-08-04 16:40:51 WARNING  This too\n"
     ]
    }
   ],
   "source": [
    "from sklearn.datasets import load_digits\n",
    "import pandas as pd\n",
    "import numpy as np\n",
    "import matplotlib.pyplot as plt\n",
    "import logging\n",
    "import sys\n",
    "\n",
    "'''\n",
    "logging.basicConfig(stream=sys.stdout, \n",
    "                    level=logging.WARN,\n",
    "                    format='%(asctime)s %(levelname)-8s %(message)s',\n",
    "                    datefmt='%Y-%m-%d %H:%M:%S')\n",
    "'''\n",
    "logging.basicConfig(\n",
    "    format='%(asctime)s %(levelname)-8s %(message)s',\n",
    "    level=logging.WARN,\n",
    "    datefmt='%Y-%m-%d %H:%M:%S'\n",
    ")\n",
    "\n",
    "logger = logging.getLogger('LOGGER_NAME')\n",
    "logger.debug('This is hidden')\n",
    "logger.info('So this is shown on the console')\n",
    "logger.warning('This too')\n",
    "\n",
    "'''\n",
    "logging.basicConfig(\n",
    "    format='%(asctime)s %(levelname)-8s %(message)s',\n",
    "    level=logging.INFO,\n",
    "    datefmt='%Y-%m-%d %H:%M:%S')\n",
    "\n",
    "logging.info('an info messge')\n",
    "'''\n",
    "'''\n",
    "logging.basicConfig(format='%(asctime)s %(message)s')\n",
    "logging.warning('is when this event was logged.')\n",
    "'''\n",
    "\n",
    "digits_data = load_digits()\n",
    "#type(digits)\n",
    "#print(type(digits.data))\n",
    "#print(digits.data.shape)\n",
    "\n",
    "#digits_df = pd.DataFrame(digits.data)\n",
    "#print(digits_df.shape)\n",
    "\n",
    "\n",
    "%matplotlib inline"
   ]
  },
  {
   "cell_type": "code",
   "execution_count": 32,
   "metadata": {
    "collapsed": false
   },
   "outputs": [
    {
     "data": {
      "text/plain": [
       "dict_keys(['images', 'target', 'data', 'target_names', 'DESCR'])"
      ]
     },
     "execution_count": 32,
     "metadata": {},
     "output_type": "execute_result"
    }
   ],
   "source": [
    "digits_data.keys()\n",
    "#type(digits)"
   ]
  },
  {
   "cell_type": "code",
   "execution_count": 33,
   "metadata": {
    "collapsed": false
   },
   "outputs": [
    {
     "name": "stdout",
     "output_type": "stream",
     "text": [
      "(1797,)\n",
      "0       0\n",
      "1       1\n",
      "2       2\n",
      "3       3\n",
      "4       4\n",
      "5       5\n",
      "6       6\n",
      "7       7\n",
      "8       8\n",
      "9       9\n",
      "10      0\n",
      "11      1\n",
      "12      2\n",
      "13      3\n",
      "14      4\n",
      "15      5\n",
      "16      6\n",
      "17      7\n",
      "18      8\n",
      "19      9\n",
      "20      0\n",
      "21      1\n",
      "22      2\n",
      "23      3\n",
      "24      4\n",
      "25      5\n",
      "26      6\n",
      "27      7\n",
      "28      8\n",
      "29      9\n",
      "       ..\n",
      "1767    4\n",
      "1768    0\n",
      "1769    5\n",
      "1770    3\n",
      "1771    6\n",
      "1772    9\n",
      "1773    6\n",
      "1774    1\n",
      "1775    7\n",
      "1776    5\n",
      "1777    4\n",
      "1778    4\n",
      "1779    7\n",
      "1780    2\n",
      "1781    8\n",
      "1782    2\n",
      "1783    2\n",
      "1784    5\n",
      "1785    7\n",
      "1786    9\n",
      "1787    5\n",
      "1788    4\n",
      "1789    8\n",
      "1790    8\n",
      "1791    4\n",
      "1792    9\n",
      "1793    0\n",
      "1794    8\n",
      "1795    9\n",
      "1796    8\n",
      "Length: 1797, dtype: int64\n"
     ]
    }
   ],
   "source": [
    "#digits['images'][0]\n",
    "\n",
    "#labels = pd.DataFrame(digits_data['target'])\n",
    "labels = pd.Series(digits_data['target'])\n",
    "print(labels.shape)\n",
    "print(labels)"
   ]
  },
  {
   "cell_type": "code",
   "execution_count": 34,
   "metadata": {
    "collapsed": false
   },
   "outputs": [
    {
     "name": "stdout",
     "output_type": "stream",
     "text": [
      "(1797, 64)\n",
      "    0    1    2     3    4    5    6    7    8    9  ...    54   55   56   57  \\\n",
      "0  0.0  0.0  5.0  13.0  9.0  1.0  0.0  0.0  0.0  0.0 ...   0.0  0.0  0.0  0.0   \n",
      "\n",
      "    58    59    60   61   62   63  \n",
      "0  6.0  13.0  10.0  0.0  0.0  0.0  \n",
      "\n",
      "[1 rows x 64 columns]\n"
     ]
    }
   ],
   "source": [
    "data = pd.DataFrame(digits_data['data'])\n",
    "print(data.shape)\n",
    "print(data.head(1))"
   ]
  },
  {
   "cell_type": "code",
   "execution_count": 40,
   "metadata": {
    "collapsed": false
   },
   "outputs": [
    {
     "name": "stdout",
     "output_type": "stream",
     "text": [
      "<class 'pandas.core.series.Series'>\n",
      "<class 'numpy.ndarray'>\n",
      "[[ 0.  0.  5. 13.  9.  1.  0.  0.]\n",
      " [ 0.  0. 13. 15. 10. 15.  5.  0.]\n",
      " [ 0.  3. 15.  2.  0. 11.  8.  0.]\n",
      " [ 0.  4. 12.  0.  0.  8.  8.  0.]\n",
      " [ 0.  5.  8.  0.  0.  9.  8.  0.]\n",
      " [ 0.  4. 11.  0.  1. 12.  7.  0.]\n",
      " [ 0.  2. 14.  5. 10. 12.  0.  0.]\n",
      " [ 0.  0.  6. 13. 10.  0.  0.  0.]]\n"
     ]
    }
   ],
   "source": [
    "#print(digits_df.head(1))\n",
    "#first_image = digits_df.iloc[0]\n",
    "#first_image.drop('label',axis=1)\n",
    "#np_image = first_image.values\n",
    "#print(np_image)\n",
    "#np_image  =np_image.reshape(32,32)\n",
    "\n",
    "first_image = data.iloc[0]\n",
    "#print(first_image)\n",
    "print(type(first_image))\n",
    "print(type(first_image.values))\n",
    "np_image = first_image.values.reshape(8,8)\n",
    "print(np_image)"
   ]
  },
  {
   "cell_type": "code",
   "execution_count": 23,
   "metadata": {
    "collapsed": false
   },
   "outputs": [
    {
     "data": {
      "text/plain": [
       "<matplotlib.image.AxesImage at 0x7f4106c415c0>"
      ]
     },
     "execution_count": 23,
     "metadata": {},
     "output_type": "execute_result"
    },
    {
     "data": {
      "image/png": "[encoded data removed]",
      "text/plain": [
       "<matplotlib.figure.Figure at 0x7f41069b5e10>"
      ]
     },
     "metadata": {},
     "output_type": "display_data"
    }
   ],
   "source": [
    "%matplotlib inline\n",
    "plt.imshow(np_image,cmap='gray_r')"
   ]
  },
  {
   "cell_type": "code",
   "execution_count": 7,
   "metadata": {
    "collapsed": false
   },
   "outputs": [
    {
     "data": {
      "text/plain": [
       "<matplotlib.image.AxesImage at 0x7f4107e75710>"
      ]
     },
     "execution_count": 7,
     "metadata": {},
     "output_type": "execute_result"
    },
    {
     "data": {
      "image/png": "[encoded data removed]",
      "text/plain": [
       "<matplotlib.figure.Figure at 0x7f410a1a2198>"
      ]
     },
     "metadata": {},
     "output_type": "display_data"
    }
   ],
   "source": [
    "first_row_image1 = data.iloc[0]\n",
    "image00 = first_row_image1.values.reshape(8,8)\n",
    "\n",
    "first_row_image2 = data.iloc[99]\n",
    "image01 = first_row_image2.values.reshape(8,8)\n",
    "\n",
    "\n",
    "first_row_image3 = data.iloc[199]\n",
    "image02 = first_row_image3.values.reshape(8,8)\n",
    "\n",
    "\n",
    "first_row_image4 = data.iloc[299]\n",
    "image03 = first_row_image4.values.reshape(8,8)\n",
    "\n",
    "\n",
    "second_row_image1 = data.iloc[999]\n",
    "image10 =second_row_image1.values.reshape(8,8)\n",
    "\n",
    "second_row_image2 = data.iloc[1099]\n",
    "image11 =second_row_image2.values.reshape(8,8)\n",
    "\n",
    "second_row_image3 = data.iloc[1199]\n",
    "image12 =second_row_image3.values.reshape(8,8)\n",
    "\n",
    "second_row_image4 = data.iloc[1299]\n",
    "#second_row_image4 = data.iloc[1796]\n",
    "image13 =second_row_image4.values.reshape(8,8)\n",
    "\n",
    "\n",
    "\n",
    "#f,a=plt.subplots(2,4,figsize=(5,5))\n",
    "f,a=plt.subplots(2,4)\n",
    "\n",
    "a[0,0].imshow(image00,cmap='gray_r')\n",
    "a[0,1].imshow(image01,cmap='gray_r')\n",
    "a[0,2].imshow(image02,cmap='gray_r')\n",
    "a[0,3].imshow(image03,cmap='gray_r')\n",
    "\n",
    "a[1,0].imshow(image10,cmap='gray_r')\n",
    "a[1,1].imshow(image11,cmap='gray_r')\n",
    "a[1,2].imshow(image12,cmap='gray_r')\n",
    "a[1,3].imshow(image13,cmap='gray_r')\n"
   ]
  },
  {
   "cell_type": "code",
   "execution_count": 31,
   "metadata": {
    "collapsed": false
   },
   "outputs": [
    {
     "name": "stdout",
     "output_type": "stream",
     "text": [
      "4\n",
      "0.9527097253155159\n"
     ]
    }
   ],
   "source": [
    "from sklearn.neighbors import KNeighborsClassifier\n",
    "from sklearn.model_selection import KFold\n",
    "\n",
    "def train(n_neighbor,feature,output):\n",
    "    knn = KNeighborsClassifier(n_neighbor)\n",
    "    \n",
    "    #print(type(output.values.reshape(-1,)))\n",
    "    #print(type(output.values))\n",
    "    #print(output.values.reshape(-1,))\n",
    "    #model =  knn.fit(feature,output)\n",
    "    #model = knn.fit(feature,output.values.reshape(-1,))\n",
    "    model = knn.fit(feature,output.values)\n",
    "    \n",
    "    return model\n",
    "\n",
    "def test(model,feature,label):\n",
    "    prediction = model.predict(feature)\n",
    "    #print(label.shape,prediction.shape)\n",
    "    #print(type(label))\n",
    "    #print(type(prediction))\n",
    "    \n",
    "    output = pd.DataFrame()\n",
    "    #output[\"expected\"] = label.values.reshape(-1,)\n",
    "    output[\"expected\"] = label\n",
    "    output[\"predicted\"] = prediction\n",
    "    #print(output.shape[0])\n",
    "    accuracy = sum(output[\"predicted\"] == output[\"expected\"])/output.shape[0]\n",
    "    #print(accuracy)\n",
    "    return accuracy\n",
    "\n",
    "\n",
    "def cross_validate(k):\n",
    "    all_accuracy = []\n",
    "    kf = KFold(n_splits=4,shuffle=False,random_state=2)    \n",
    "    \n",
    "    for train_index, test_index in kf.split(data):\n",
    "        #print(\"TRAIN:\", train_index, \"TEST:\", test_index)\n",
    "        X_train, X_test = data.loc[train_index], data.loc[test_index]\n",
    "        y_train, y_test = labels.loc[train_index], labels.loc[test_index]\n",
    "        #print(X_train.shape,y_train.shape)\n",
    "        #print(X_test.shape,y_test.shape)\n",
    "        model = train(k,X_train,y_train) \n",
    "        accuracy = test(model,X_test,y_test)\n",
    "        all_accuracy.append(accuracy)\n",
    "    return all_accuracy\n",
    "        \n",
    "k=10\n",
    "result = cross_validate(k)\n",
    "print(len(result))\n",
    "print(np.mean(result))\n"
   ]
  },
  {
   "cell_type": "code",
   "execution_count": 32,
   "metadata": {
    "collapsed": false
   },
   "outputs": [
    {
     "name": "stdout",
     "output_type": "stream",
     "text": [
      "[0.9677233358079684, 0.9616010888393962, 0.9627183865379857, 0.9649480326651819, 0.9621665429349171, 0.9588270230141054, 0.9571591190299431, 0.9571578817124474, 0.9543801039346697, 0.9527097253155159]\n"
     ]
    },
    {
     "data": {
      "text/plain": [
       "[<matplotlib.lines.Line2D at 0x7f19c7845320>]"
      ]
     },
     "execution_count": 32,
     "metadata": {},
     "output_type": "execute_result"
    },
    {
     "data": {
      "image/png": "[encoded data removed]",
      "text/plain": [
       "<matplotlib.figure.Figure at 0x7f19c78a0978>"
      ]
     },
     "metadata": {},
     "output_type": "display_data"
    }
   ],
   "source": [
    "k = np.arange(1,11)\n",
    "\n",
    "#print(type(k))\n",
    "\n",
    "mean_accuracy = []\n",
    "\n",
    "for i in k:\n",
    "    accuracy = cross_validate(i)\n",
    "    #all_accuracy.append(accuracy)\n",
    "    mean_accuracy.append(np.mean(accuracy))\n",
    "    \n",
    "print(mean_accuracy)\n",
    "\n",
    "plt.figure(figsize=(8,4))\n",
    "plt.title(\"classification accuracies - mean accuracy vs number of K\")\n",
    "plt.plot(k,mean_accuracy)\n"
   ]
  },
  {
   "cell_type": "code",
   "execution_count": 9,
   "metadata": {
    "collapsed": false
   },
   "outputs": [],
   "source": [
    "##sammie version\n",
    "# 4 fold cross validation\n",
    "\n",
    "from sklearn.neural_network import MLPClassifier\n",
    "from sklearn.datasets import make_classification\n",
    "from sklearn.model_selection import train_test_split\n",
    "from sklearn.model_selection import KFold\n",
    "\n",
    "def train(neuron,feature, output):\n",
    "    #mlp = MLPClassifier(hidden_layer_sizes=(neuron,),random_state=1,solver='sgd')\n",
    "    #mlp = MLPClassifier(hidden_layer_sizes=(neuron,),random_state=1)\n",
    "    #mlp = MLPClassifier(hidden_layer_sizes=neuron,random_state=1)\n",
    "    mlp = MLPClassifier(hidden_layer_sizes=neuron)\n",
    "    #model = mlp.fit(feature,output.values.reshape(-1,))\n",
    "    model = mlp.fit(feature,output)\n",
    "    return model\n",
    "        \n",
    "def test(model,feature,label):\n",
    "    prediction = model.predict(feature)\n",
    "    \n",
    "    output = pd.DataFrame()\n",
    "    #output[\"expected\"] = label.values.reshape(-1,)\n",
    "    output[\"expected\"] = label\n",
    "    output[\"predicted\"] = prediction\n",
    "    accuracy = sum(output[\"predicted\"] == output[\"expected\"])/output.shape[0]\n",
    "    return accuracy\n",
    "\n",
    "    \n",
    "def cross_validate(neuron):\n",
    "    all_accuracy = []\n",
    "    kf = KFold(n_splits=4,shuffle=False,random_state=-2)   \n",
    "    \n",
    "    #features=pd.DataFrame(data[0])\n",
    "    #labels=pd.Series(data[1])\n",
    "\n",
    "    \n",
    "    for train_index, test_index in kf.split(data):\n",
    "        #print(\"TRAIN:\", train_index, \"TEST:\", test_index)\n",
    "        X_train, X_test = data.loc[train_index], data.loc[test_index]\n",
    "        y_train, y_test = labels.loc[train_index], labels.loc[test_index]\n",
    "        #print(len(X_train),len(X_test))\n",
    "        model = train(neuron,X_train,y_train) \n",
    "        accuracy = test(model,X_test,y_test)\n",
    "        all_accuracy.append(accuracy)\n",
    "    return all_accuracy\n",
    "\n"
   ]
  },
  {
   "cell_type": "code",
   "execution_count": 10,
   "metadata": {
    "collapsed": false
   },
   "outputs": [
    {
     "name": "stderr",
     "output_type": "stream",
     "text": [
      "2020-08-04 10:41:36 WARNING  before timing\n",
      "/dataquest/system/env/python3/lib/python3.4/site-packages/sklearn/neural_network/multilayer_perceptron.py:563: ConvergenceWarning:\n",
      "\n",
      "Stochastic Optimizer: Maximum iterations reached and the optimization hasn't converged yet.\n",
      "\n",
      "2020-08-04 10:41:39 WARNING  after timing\n",
      "2020-08-04 10:41:39 WARNING  before timing\n",
      "2020-08-04 10:41:44 WARNING  after timing\n",
      "2020-08-04 10:41:44 WARNING  before timing\n",
      "2020-08-04 10:41:49 WARNING  after timing\n",
      "2020-08-04 10:41:49 WARNING  before timing\n",
      "2020-08-04 10:44:29 WARNING  after timing\n",
      "2020-08-04 10:44:29 WARNING  before timing\n",
      "2020-08-04 10:46:40 WARNING  after timing\n",
      "2020-08-04 10:46:40 WARNING  before timing\n",
      "2020-08-04 10:49:12 WARNING  after timing\n"
     ]
    },
    {
     "name": "stdout",
     "output_type": "stream",
     "text": [
      "[0.875325414501361, 0.9020712694877506, 0.9343244246473645, 0.9460170749814402, 0.9398898787428853, 0.9515837663944569]\n"
     ]
    },
    {
     "data": {
      "text/plain": [
       "'\\n[0.8352932442464736, \\n0.9126268250433061, \\n0.9337713437268003, \\n0.9304429596634496, \\n0.9426787923781242, \\n0.9471294234100471]\\n\\n'"
      ]
     },
     "execution_count": 10,
     "metadata": {},
     "output_type": "execute_result"
    },
    {
     "data": {
      "image/png": "[encoded data removed]",
      "text/plain": [
       "<matplotlib.figure.Figure at 0x7fd44d266d30>"
      ]
     },
     "metadata": {},
     "output_type": "display_data"
    }
   ],
   "source": [
    "#Sammie version\n",
    "#kf = KFold(n_splits=4,shuffle=False,random_state=2)    \n",
    "#neurons = [8,16,32,64,128,256]\n",
    "\n",
    "#neurons = [8,16,32,64,128]\n",
    "#neurons = [8]\n",
    "#neurons=[(8,),(16,),(32,),(64,),(128,)]\n",
    "#neurons=[(256,)]\n",
    "neurons=[(8,),(16,),(32,),(64,),(128,),(256,)]\n",
    "all_accuracy = []\n",
    "\n",
    "\n",
    "for n in neurons:\n",
    "    #print(\"no. of hidden layer/neuron: \",n)\n",
    "    logger.warning('before timing')\n",
    "    result = cross_validate(n)\n",
    "    mean_accuracy = np.mean(result)\n",
    "    #print(\"accuracy:\",mean_accuracy)\n",
    "    #logger.info('i-timing')\n",
    "    #logger.debug('d-timing')\n",
    "    logger.warning('after timing')\n",
    "    #datetime.datetime.now().strftime(\"%d.%b %Y %H:%M:%S\")\n",
    "    all_accuracy.append(mean_accuracy)\n",
    "\n",
    "print(all_accuracy)  \n",
    "\n",
    "x=[i[0] for i in neurons]\n",
    "\n",
    "\n",
    "plt.figure(figsize=(8,4))\n",
    "plt.title(\"hidden layer vs accuracy\")\n",
    "plt.plot(x,all_accuracy)\n",
    "\n",
    "\n",
    "'''\n",
    "[0.8352932442464736, \n",
    "0.9126268250433061, \n",
    "0.9337713437268003, \n",
    "0.9304429596634496, \n",
    "0.9426787923781242, \n",
    "0.9471294234100471]\n",
    "\n",
    "2020-08-04 10:41:36 WARNING  before timing\n",
    "/dataquest/system/env/python3/lib/python3.4/site-packages/sklearn/neural_network/multilayer_perceptron.py:563: ConvergenceWarning:\n",
    "\n",
    "Stochastic Optimizer: Maximum iterations reached and the optimization hasn't converged yet.\n",
    "\n",
    "2020-08-04 10:41:39 WARNING  after timing\n",
    "2020-08-04 10:41:39 WARNING  before timing\n",
    "2020-08-04 10:41:44 WARNING  after timing\n",
    "2020-08-04 10:41:44 WARNING  before timing\n",
    "2020-08-04 10:41:49 WARNING  after timing\n",
    "2020-08-04 10:41:49 WARNING  before timing\n",
    "2020-08-04 10:44:29 WARNING  after timing\n",
    "2020-08-04 10:44:29 WARNING  before timing\n",
    "2020-08-04 10:46:40 WARNING  after timing\n",
    "2020-08-04 10:46:40 WARNING  before timing\n",
    "2020-08-04 10:49:12 WARNING  after timing\n",
    "\n",
    "[0.875325414501361,\n",
    "0.9020712694877506, \n",
    "0.9343244246473645, \n",
    "0.9460170749814402, \n",
    "0.9398898787428853, \n",
    "0.9515837663944569]\n",
    "\n",
    "'''"
   ]
  },
  {
   "cell_type": "code",
   "execution_count": 8,
   "metadata": {
    "collapsed": true
   },
   "outputs": [],
   "source": [
    "from sklearn.neighbors import KNeighborsClassifier\n",
    "from sklearn.model_selection import KFold\n",
    "from sklearn.neural_network import MLPClassifier\n",
    "\n",
    "# 50% Train / test validation\n",
    "def train_nn(neuron_arch, train_features, train_labels):\n",
    "    mlp = MLPClassifier(hidden_layer_sizes=neuron_arch)\n",
    "    mlp.fit(train_features, train_labels)\n",
    "    return mlp\n",
    "\n",
    "def test(model, test_features, test_labels):\n",
    "    predictions = model.predict(test_features)\n",
    "    train_test_df = pd.DataFrame()\n",
    "    train_test_df['correct_label'] = test_labels\n",
    "    train_test_df['predicted_label'] = predictions\n",
    "    overall_accuracy = sum(train_test_df[\"predicted_label\"] == train_test_df[\"correct_label\"])/len(train_test_df)    \n",
    "    return overall_accuracy\n",
    "\n",
    "def cross_validate(neuron_arch):\n",
    "    fold_accuracies = []\n",
    "    kf = KFold(n_splits = 4, random_state=2)\n",
    "    for train_index, test_index in kf.split(data):\n",
    "        train_features, test_features = data.loc[train_index], data.loc[test_index]\n",
    "        train_labels, test_labels = labels.loc[train_index], labels.loc[test_index]\n",
    "       \n",
    "        model = train_nn(neuron_arch, train_features, train_labels)\n",
    "        overall_accuracy = test(model, test_features, test_labels)\n",
    "        fold_accuracies.append(overall_accuracy)\n",
    "    return fold_accuracies"
   ]
  },
  {
   "cell_type": "code",
   "execution_count": 8,
   "metadata": {
    "collapsed": false
   },
   "outputs": [
    {
     "name": "stderr",
     "output_type": "stream",
     "text": [
      "/dataquest/system/env/python3/lib/python3.4/site-packages/sklearn/neural_network/multilayer_perceptron.py:563: ConvergenceWarning:\n",
      "\n",
      "Stochastic Optimizer: Maximum iterations reached and the optimization hasn't converged yet.\n",
      "\n"
     ]
    },
    {
     "name": "stdout",
     "output_type": "stream",
     "text": [
      "[0.8736748329621381, 0.9187552585993566, 0.925430586488493, 0.9365614946795348, 0.9487973273942093, 0.9521343726800297]\n"
     ]
    },
    {
     "data": {
      "text/plain": [
       "'\\nsammie verison\\n[0.8803489235337787, \\n0.9226391982182629, \\n0.9287564959168522, \\n0.933783716901757, \\n0.9415652066320218, \\n0.948798564711705]\\n\\nsammie version\\n[0.8279955456570156, \\n0.9176391982182628, \\n0.9170762187577332, \\n0.9326466221232368, \\n0.9493578322197476, \\n0.9487998020292007]\\n\\n[0.8369326899282357, \\n0.9226416728532542, \\n0.9293157634248947, \\n0.9365553080920563, \\n0.9343219500123732, \\n0.954364018807226]\\n'"
      ]
     },
     "execution_count": 8,
     "metadata": {},
     "output_type": "execute_result"
    },
    {
     "data": {
      "image/png": "[encoded data removed]",
      "text/plain": [
       "<matplotlib.figure.Figure at 0x7fd44d32d1d0>"
      ]
     },
     "metadata": {},
     "output_type": "display_data"
    }
   ],
   "source": [
    "nn_one_neurons = [\n",
    "    (8,),\n",
    "    (16,),\n",
    "    (32,),\n",
    "    (64,),\n",
    "    (128,),\n",
    "    (256,)\n",
    "]\n",
    "nn_one_accuracies = []\n",
    "\n",
    "for n in nn_one_neurons:\n",
    "    nn_accuracies = cross_validate(n)\n",
    "    nn_mean_accuracy = np.mean(nn_accuracies)\n",
    "    nn_one_accuracies.append(nn_mean_accuracy)\n",
    "\n",
    "print(nn_one_accuracies)\n",
    "    \n",
    "plt.figure(figsize=(8,4))\n",
    "plt.title(\"Mean Accuracy vs. Neurons In Single Hidden Layer\")\n",
    "\n",
    "x = [i[0] for i in nn_one_neurons]\n",
    "plt.plot(x, nn_one_accuracies)\n",
    "\n",
    "'''\n",
    "sammie verison\n",
    "[0.8803489235337787, \n",
    "0.9226391982182629, \n",
    "0.9287564959168522, \n",
    "0.933783716901757, \n",
    "0.9415652066320218, \n",
    "0.948798564711705]\n",
    "\n",
    "sammie version\n",
    "[0.8279955456570156, \n",
    "0.9176391982182628, \n",
    "0.9170762187577332, \n",
    "0.9326466221232368, \n",
    "0.9493578322197476, \n",
    "0.9487998020292007]\n",
    "\n",
    "sammie version\n",
    "[0.8736748329621381, \n",
    "0.9187552585993566, \n",
    "0.925430586488493, \n",
    "0.9365614946795348, \n",
    "0.9487973273942093, \n",
    "0.9521343726800297]\n",
    "\n",
    "[0.8369326899282357, \n",
    "0.9226416728532542, \n",
    "0.9293157634248947, \n",
    "0.9365553080920563, \n",
    "0.9343219500123732, \n",
    "0.954364018807226]\n",
    "'''"
   ]
  },
  {
   "cell_type": "markdown",
   "metadata": {
    "collapsed": true
   },
   "source": [
    "## single hidden layer\n",
    "### KNN = 96%\n",
    "### Neural Network with 4 fold cross validation = accuracy ranged from 86% to 94%"
   ]
  },
  {
   "cell_type": "code",
   "execution_count": 11,
   "metadata": {
    "collapsed": false
   },
   "outputs": [
    {
     "name": "stderr",
     "output_type": "stream",
     "text": [
      "/dataquest/system/env/python3/lib/python3.4/site-packages/sklearn/neural_network/multilayer_perceptron.py:563: ConvergenceWarning:\n",
      "\n",
      "Stochastic Optimizer: Maximum iterations reached and the optimization hasn't converged yet.\n",
      "\n"
     ]
    },
    {
     "name": "stdout",
     "output_type": "stream",
     "text": [
      "[0.8263523880227666, 0.9220799307102202, 0.9232108389012621, 0.9404578074733977, 0.9510343974263795, 0.9549170997277902]\n"
     ]
    },
    {
     "data": {
      "text/plain": [
       "[<matplotlib.lines.Line2D at 0x7f4106dc0588>]"
      ]
     },
     "execution_count": 11,
     "metadata": {},
     "output_type": "execute_result"
    },
    {
     "data": {
      "image/png": "[encoded data removed]",
      "text/plain": [
       "<matplotlib.figure.Figure at 0x7f4106daeb70>"
      ]
     },
     "metadata": {},
     "output_type": "display_data"
    }
   ],
   "source": [
    "neurons=[(8,8),(16,16),(32,32),(64,64),(128,128),(256,256)]\n",
    "all_accuracy = []\n",
    "\n",
    "\n",
    "for n in neurons:\n",
    "    result = cross_validate(n)\n",
    "    mean_accuracy = np.mean(result)\n",
    "    all_accuracy.append(mean_accuracy)\n",
    "\n",
    "print(all_accuracy)  \n",
    "\n",
    "'''[0.9376651818856718, 0.9437899034892353]\n",
    "[0.9432454837911407, 0.9527072506805246]\n",
    "\n",
    "[0.8263523880227666, \n",
    "0.9220799307102202, \n",
    "0.9232108389012621, \n",
    "0.9404578074733977, \n",
    "0.9510343974263795, \n",
    "0.9549170997277902]\n",
    "\n",
    "'''\n",
    "\n",
    "x=[i[0] for i in neurons]\n",
    "\n",
    "plt.figure(figsize=(8,4))\n",
    "plt.title(\"hidden layer vs accuracy\")\n",
    "plt.plot(x,all_accuracy)"
   ]
  },
  {
   "cell_type": "markdown",
   "metadata": {},
   "source": [
    "## 2 hidden layers\n",
    "### Neural network with 4 fold cross validation \n",
    "### more neuron, more accurate \n",
    "### from 82% to 95%"
   ]
  },
  {
   "cell_type": "code",
   "execution_count": null,
   "metadata": {
    "collapsed": true
   },
   "outputs": [],
   "source": [
    "# sammie version\n",
    "# 6 fold cross validation\n",
    "from sklearn.neural_network import MLPClassifier\n",
    "from sklearn.datasets import make_classification\n",
    "from sklearn.model_selection import train_test_split\n",
    "from sklearn.model_selection import KFold\n",
    "\n",
    "def train(neuron,feature, output):\n",
    "    mlp = MLPClassifier(hidden_layer_sizes=neuron)\n",
    "    model = mlp.fit(feature,output)\n",
    "    return model\n",
    "        \n",
    "def test(model,feature,label):\n",
    "    prediction = model.predict(feature) \n",
    "    output = pd.DataFrame()\n",
    "    output[\"expected\"] = label\n",
    "    output[\"predicted\"] = prediction\n",
    "    accuracy = sum(output[\"predicted\"] == output[\"expected\"])/output.shape[0] \n",
    "    return accuracy\n",
    "\n",
    "def cross_validate(neuron):\n",
    "    all_accuracy = []\n",
    "    kf = KFold(n_splits=6,shuffle=False,random_state=2)   \n",
    "\n",
    "    for train_index, test_index in kf.split(data):\n",
    "        #print(\"TRAIN:\", train_index, \"TEST:\", test_index)\n",
    "        X_train, X_test = data.loc[train_index], data.loc[test_index]\n",
    "        y_train, y_test = labels.loc[train_index], labels.loc[test_index]\n",
    "        #print(len(X_train),len(X_test))\n",
    "        model = train(neuron,X_train,y_train) \n",
    "        accuracy = test(model,X_test,y_test)\n",
    "        all_accuracy.append(accuracy)\n",
    "    return all_accuracy"
   ]
  },
  {
   "cell_type": "code",
   "execution_count": null,
   "metadata": {
    "collapsed": false
   },
   "outputs": [
    {
     "name": "stderr",
     "output_type": "stream",
     "text": [
      "--- Logging error ---\n",
      "Traceback (most recent call last):\n",
      "  File \"/usr/lib/python3.4/logging/__init__.py\", line 978, in emit\n",
      "    msg = self.format(record)\n",
      "  File \"/usr/lib/python3.4/logging/__init__.py\", line 828, in format\n",
      "    return fmt.format(record)\n",
      "  File \"/usr/lib/python3.4/logging/__init__.py\", line 565, in format\n",
      "    record.message = record.getMessage()\n",
      "  File \"/usr/lib/python3.4/logging/__init__.py\", line 328, in getMessage\n",
      "    msg = msg % self.args\n",
      "TypeError: not all arguments converted during string formatting\n",
      "Call stack:\n",
      "  File \"/usr/lib/python3.4/runpy.py\", line 170, in _run_module_as_main\n",
      "    \"__main__\", mod_spec)\n",
      "  File \"/usr/lib/python3.4/runpy.py\", line 85, in _run_code\n",
      "    exec(code, run_globals)\n",
      "  File \"/dataquest/system/env/python3/lib/python3.4/site-packages/ipykernel/__main__.py\", line 3, in <module>\n",
      "    app.launch_new_instance()\n",
      "  File \"/dataquest/system/env/python3/lib/python3.4/site-packages/traitlets/config/application.py\", line 664, in launch_instance\n",
      "    app.start()\n",
      "  File \"/dataquest/system/env/python3/lib/python3.4/site-packages/ipykernel/kernelapp.py\", line 474, in start\n",
      "    ioloop.IOLoop.instance().start()\n",
      "  File \"/dataquest/system/env/python3/lib/python3.4/site-packages/zmq/eventloop/ioloop.py\", line 151, in start\n",
      "    super(ZMQIOLoop, self).start()\n",
      "  File \"/dataquest/system/env/python3/lib/python3.4/site-packages/tornado/ioloop.py\", line 883, in start\n",
      "    handler_func(fd_obj, events)\n",
      "  File \"/dataquest/system/env/python3/lib/python3.4/site-packages/tornado/stack_context.py\", line 275, in null_wrapper\n",
      "    return fn(*args, **kwargs)\n",
      "  File \"/dataquest/system/env/python3/lib/python3.4/site-packages/zmq/eventloop/zmqstream.py\", line 433, in _handle_events\n",
      "    self._handle_recv()\n",
      "  File \"/dataquest/system/env/python3/lib/python3.4/site-packages/zmq/eventloop/zmqstream.py\", line 465, in _handle_recv\n",
      "    self._run_callback(callback, msg)\n",
      "  File \"/dataquest/system/env/python3/lib/python3.4/site-packages/zmq/eventloop/zmqstream.py\", line 407, in _run_callback\n",
      "    callback(*args, **kwargs)\n",
      "  File \"/dataquest/system/env/python3/lib/python3.4/site-packages/tornado/stack_context.py\", line 275, in null_wrapper\n",
      "    return fn(*args, **kwargs)\n",
      "  File \"/dataquest/system/env/python3/lib/python3.4/site-packages/ipykernel/kernelbase.py\", line 276, in dispatcher\n",
      "    return self.dispatch_shell(stream, msg)\n",
      "  File \"/dataquest/system/env/python3/lib/python3.4/site-packages/ipykernel/kernelbase.py\", line 228, in dispatch_shell\n",
      "    handler(stream, idents, msg)\n",
      "  File \"/dataquest/system/env/python3/lib/python3.4/site-packages/ipykernel/kernelbase.py\", line 390, in execute_request\n",
      "    user_expressions, allow_stdin)\n",
      "  File \"/dataquest/system/env/python3/lib/python3.4/site-packages/ipykernel/ipkernel.py\", line 196, in do_execute\n",
      "    res = shell.run_cell(code, store_history=store_history, silent=silent)\n",
      "  File \"/dataquest/system/env/python3/lib/python3.4/site-packages/ipykernel/zmqshell.py\", line 501, in run_cell\n",
      "    return super(ZMQInteractiveShell, self).run_cell(*args, **kwargs)\n",
      "  File \"/dataquest/system/env/python3/lib/python3.4/site-packages/IPython/core/interactiveshell.py\", line 2723, in run_cell\n",
      "    interactivity=interactivity, compiler=compiler, result=result)\n",
      "  File \"/dataquest/system/env/python3/lib/python3.4/site-packages/IPython/core/interactiveshell.py\", line 2825, in run_ast_nodes\n",
      "    if self.run_code(code, result):\n",
      "  File \"/dataquest/system/env/python3/lib/python3.4/site-packages/IPython/core/interactiveshell.py\", line 2885, in run_code\n",
      "    exec(code_obj, self.user_global_ns, self.user_ns)\n",
      "  File \"<ipython-input-25-0b0c6e56a65f>\", line 6, in <module>\n",
      "    logger.warning('after before',n)\n",
      "Message: 'after before'\n",
      "Arguments: ((10, 10, 10),)\n",
      "/dataquest/system/env/python3/lib/python3.4/site-packages/sklearn/neural_network/multilayer_perceptron.py:563: ConvergenceWarning:\n",
      "\n",
      "Stochastic Optimizer: Maximum iterations reached and the optimization hasn't converged yet.\n",
      "\n",
      "--- Logging error ---\n",
      "Traceback (most recent call last):\n",
      "  File \"/usr/lib/python3.4/logging/__init__.py\", line 978, in emit\n",
      "    msg = self.format(record)\n",
      "  File \"/usr/lib/python3.4/logging/__init__.py\", line 828, in format\n",
      "    return fmt.format(record)\n",
      "  File \"/usr/lib/python3.4/logging/__init__.py\", line 565, in format\n",
      "    record.message = record.getMessage()\n",
      "  File \"/usr/lib/python3.4/logging/__init__.py\", line 328, in getMessage\n",
      "    msg = msg % self.args\n",
      "TypeError: not all arguments converted during string formatting\n",
      "Call stack:\n",
      "  File \"/usr/lib/python3.4/runpy.py\", line 170, in _run_module_as_main\n",
      "    \"__main__\", mod_spec)\n",
      "  File \"/usr/lib/python3.4/runpy.py\", line 85, in _run_code\n",
      "    exec(code, run_globals)\n",
      "  File \"/dataquest/system/env/python3/lib/python3.4/site-packages/ipykernel/__main__.py\", line 3, in <module>\n",
      "    app.launch_new_instance()\n",
      "  File \"/dataquest/system/env/python3/lib/python3.4/site-packages/traitlets/config/application.py\", line 664, in launch_instance\n",
      "    app.start()\n",
      "  File \"/dataquest/system/env/python3/lib/python3.4/site-packages/ipykernel/kernelapp.py\", line 474, in start\n",
      "    ioloop.IOLoop.instance().start()\n",
      "  File \"/dataquest/system/env/python3/lib/python3.4/site-packages/zmq/eventloop/ioloop.py\", line 151, in start\n",
      "    super(ZMQIOLoop, self).start()\n",
      "  File \"/dataquest/system/env/python3/lib/python3.4/site-packages/tornado/ioloop.py\", line 883, in start\n",
      "    handler_func(fd_obj, events)\n",
      "  File \"/dataquest/system/env/python3/lib/python3.4/site-packages/tornado/stack_context.py\", line 275, in null_wrapper\n",
      "    return fn(*args, **kwargs)\n",
      "  File \"/dataquest/system/env/python3/lib/python3.4/site-packages/zmq/eventloop/zmqstream.py\", line 433, in _handle_events\n",
      "    self._handle_recv()\n",
      "  File \"/dataquest/system/env/python3/lib/python3.4/site-packages/zmq/eventloop/zmqstream.py\", line 465, in _handle_recv\n",
      "    self._run_callback(callback, msg)\n",
      "  File \"/dataquest/system/env/python3/lib/python3.4/site-packages/zmq/eventloop/zmqstream.py\", line 407, in _run_callback\n",
      "    callback(*args, **kwargs)\n",
      "  File \"/dataquest/system/env/python3/lib/python3.4/site-packages/tornado/stack_context.py\", line 275, in null_wrapper\n",
      "    return fn(*args, **kwargs)\n",
      "  File \"/dataquest/system/env/python3/lib/python3.4/site-packages/ipykernel/kernelbase.py\", line 276, in dispatcher\n",
      "    return self.dispatch_shell(stream, msg)\n",
      "  File \"/dataquest/system/env/python3/lib/python3.4/site-packages/ipykernel/kernelbase.py\", line 228, in dispatch_shell\n",
      "    handler(stream, idents, msg)\n",
      "  File \"/dataquest/system/env/python3/lib/python3.4/site-packages/ipykernel/kernelbase.py\", line 390, in execute_request\n",
      "    user_expressions, allow_stdin)\n",
      "  File \"/dataquest/system/env/python3/lib/python3.4/site-packages/ipykernel/ipkernel.py\", line 196, in do_execute\n",
      "    res = shell.run_cell(code, store_history=store_history, silent=silent)\n",
      "  File \"/dataquest/system/env/python3/lib/python3.4/site-packages/ipykernel/zmqshell.py\", line 501, in run_cell\n",
      "    return super(ZMQInteractiveShell, self).run_cell(*args, **kwargs)\n",
      "  File \"/dataquest/system/env/python3/lib/python3.4/site-packages/IPython/core/interactiveshell.py\", line 2723, in run_cell\n",
      "    interactivity=interactivity, compiler=compiler, result=result)\n",
      "  File \"/dataquest/system/env/python3/lib/python3.4/site-packages/IPython/core/interactiveshell.py\", line 2825, in run_ast_nodes\n",
      "    if self.run_code(code, result):\n",
      "  File \"/dataquest/system/env/python3/lib/python3.4/site-packages/IPython/core/interactiveshell.py\", line 2885, in run_code\n",
      "    exec(code_obj, self.user_global_ns, self.user_ns)\n",
      "  File \"<ipython-input-25-0b0c6e56a65f>\", line 8, in <module>\n",
      "    logger.warning('after timing',n)\n",
      "Message: 'after timing'\n",
      "Arguments: ((10, 10, 10),)\n",
      "--- Logging error ---\n",
      "Traceback (most recent call last):\n",
      "  File \"/usr/lib/python3.4/logging/__init__.py\", line 978, in emit\n",
      "    msg = self.format(record)\n",
      "  File \"/usr/lib/python3.4/logging/__init__.py\", line 828, in format\n",
      "    return fmt.format(record)\n",
      "  File \"/usr/lib/python3.4/logging/__init__.py\", line 565, in format\n",
      "    record.message = record.getMessage()\n",
      "  File \"/usr/lib/python3.4/logging/__init__.py\", line 328, in getMessage\n",
      "    msg = msg % self.args\n",
      "TypeError: not all arguments converted during string formatting\n",
      "Call stack:\n",
      "  File \"/usr/lib/python3.4/runpy.py\", line 170, in _run_module_as_main\n",
      "    \"__main__\", mod_spec)\n",
      "  File \"/usr/lib/python3.4/runpy.py\", line 85, in _run_code\n",
      "    exec(code, run_globals)\n",
      "  File \"/dataquest/system/env/python3/lib/python3.4/site-packages/ipykernel/__main__.py\", line 3, in <module>\n",
      "    app.launch_new_instance()\n",
      "  File \"/dataquest/system/env/python3/lib/python3.4/site-packages/traitlets/config/application.py\", line 664, in launch_instance\n",
      "    app.start()\n",
      "  File \"/dataquest/system/env/python3/lib/python3.4/site-packages/ipykernel/kernelapp.py\", line 474, in start\n",
      "    ioloop.IOLoop.instance().start()\n",
      "  File \"/dataquest/system/env/python3/lib/python3.4/site-packages/zmq/eventloop/ioloop.py\", line 151, in start\n",
      "    super(ZMQIOLoop, self).start()\n",
      "  File \"/dataquest/system/env/python3/lib/python3.4/site-packages/tornado/ioloop.py\", line 883, in start\n",
      "    handler_func(fd_obj, events)\n",
      "  File \"/dataquest/system/env/python3/lib/python3.4/site-packages/tornado/stack_context.py\", line 275, in null_wrapper\n",
      "    return fn(*args, **kwargs)\n",
      "  File \"/dataquest/system/env/python3/lib/python3.4/site-packages/zmq/eventloop/zmqstream.py\", line 433, in _handle_events\n",
      "    self._handle_recv()\n",
      "  File \"/dataquest/system/env/python3/lib/python3.4/site-packages/zmq/eventloop/zmqstream.py\", line 465, in _handle_recv\n",
      "    self._run_callback(callback, msg)\n",
      "  File \"/dataquest/system/env/python3/lib/python3.4/site-packages/zmq/eventloop/zmqstream.py\", line 407, in _run_callback\n",
      "    callback(*args, **kwargs)\n",
      "  File \"/dataquest/system/env/python3/lib/python3.4/site-packages/tornado/stack_context.py\", line 275, in null_wrapper\n",
      "    return fn(*args, **kwargs)\n",
      "  File \"/dataquest/system/env/python3/lib/python3.4/site-packages/ipykernel/kernelbase.py\", line 276, in dispatcher\n",
      "    return self.dispatch_shell(stream, msg)\n",
      "  File \"/dataquest/system/env/python3/lib/python3.4/site-packages/ipykernel/kernelbase.py\", line 228, in dispatch_shell\n",
      "    handler(stream, idents, msg)\n",
      "  File \"/dataquest/system/env/python3/lib/python3.4/site-packages/ipykernel/kernelbase.py\", line 390, in execute_request\n",
      "    user_expressions, allow_stdin)\n",
      "  File \"/dataquest/system/env/python3/lib/python3.4/site-packages/ipykernel/ipkernel.py\", line 196, in do_execute\n",
      "    res = shell.run_cell(code, store_history=store_history, silent=silent)\n",
      "  File \"/dataquest/system/env/python3/lib/python3.4/site-packages/ipykernel/zmqshell.py\", line 501, in run_cell\n",
      "    return super(ZMQInteractiveShell, self).run_cell(*args, **kwargs)\n",
      "  File \"/dataquest/system/env/python3/lib/python3.4/site-packages/IPython/core/interactiveshell.py\", line 2723, in run_cell\n",
      "    interactivity=interactivity, compiler=compiler, result=result)\n",
      "  File \"/dataquest/system/env/python3/lib/python3.4/site-packages/IPython/core/interactiveshell.py\", line 2825, in run_ast_nodes\n",
      "    if self.run_code(code, result):\n",
      "  File \"/dataquest/system/env/python3/lib/python3.4/site-packages/IPython/core/interactiveshell.py\", line 2885, in run_code\n",
      "    exec(code_obj, self.user_global_ns, self.user_ns)\n",
      "  File \"<ipython-input-25-0b0c6e56a65f>\", line 6, in <module>\n",
      "    logger.warning('after before',n)\n",
      "Message: 'after before'\n",
      "Arguments: ((64, 64, 64),)\n"
     ]
    }
   ],
   "source": [
    "#Sammie version\n",
    "neurons=[(10,10,10),(64,64,64),(128,128,128)]\n",
    "all_accuracy = []\n",
    "\n",
    "for n in neurons:\n",
    "    logger.warning('after before')\n",
    "    result = cross_validate(n)\n",
    "    logger.warning('after timing')\n",
    "    mean_accuracy = np.mean(result)\n",
    "    all_accuracy.append(mean_accuracy)\n",
    "\n",
    "print(all_accuracy)  \n",
    "\n",
    "x=[i[0] for i in neurons]\n",
    "\n",
    "\n",
    "plt.figure(figsize=(8,4))\n",
    "plt.title(\"hidden layer vs accuracy\")\n",
    "plt.plot(x,all_accuracy)\n",
    "\n",
    "'''0.8937086584912671, 0.9538145670754367, 0.9488089929394278\n",
    "\n",
    "'''"
   ]
  },
  {
   "cell_type": "markdown",
   "metadata": {},
   "source": [
    "### 3 hidden layer with 6 fold cross validation\n",
    "### more layer more accurate\n"
   ]
  }
 ],
 "metadata": {
  "anaconda-cloud": {},
  "kernelspec": {
   "display_name": "Python 3",
   "language": "python",
   "name": "python3"
  },
  "language_info": {
   "codemirror_mode": {
    "name": "ipython",
    "version": 3
   },
   "file_extension": ".py",
   "mimetype": "text/x-python",
   "name": "python",
   "nbconvert_exporter": "python",
   "pygments_lexer": "ipython3",
   "version": "3.4.3"
  }
 },
 "nbformat": 4,
 "nbformat_minor": 2
}

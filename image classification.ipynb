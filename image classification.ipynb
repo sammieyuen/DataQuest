from sklearn.datasets import load_digits
import pandas as pd
import numpy as np
import matplotlib.pyplot as plt
import logging
import sys

'''
logging.basicConfig(stream=sys.stdout, 
                    level=logging.WARN,
                    format='%(asctime)s %(levelname)-8s %(message)s',
                    datefmt='%Y-%m-%d %H:%M:%S')
'''
logging.basicConfig(
    format='%(asctime)s %(levelname)-8s %(message)s',
    level=logging.WARN,
    datefmt='%Y-%m-%d %H:%M:%S'
)

logger = logging.getLogger('LOGGER_NAME')
logger.debug('This is hidden')
logger.info('So this is shown on the console')
logger.warning('This too')

'''
logging.basicConfig(
    format='%(asctime)s %(levelname)-8s %(message)s',
    level=logging.INFO,
    datefmt='%Y-%m-%d %H:%M:%S')

logging.info('an info messge')
'''
'''
logging.basicConfig(format='%(asctime)s %(message)s')
logging.warning('is when this event was logged.')
'''

digits_data = load_digits()
#type(digits)
#print(type(digits.data))
#print(digits.data.shape)

#digits_df = pd.DataFrame(digits.data)
#print(digits_df.shape)


%matplotlib inline
